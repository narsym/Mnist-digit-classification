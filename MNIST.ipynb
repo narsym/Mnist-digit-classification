{
  "nbformat": 4,
  "nbformat_minor": 0,
  "metadata": {
    "colab": {
      "name": "MNIST.ipynb",
      "provenance": [],
      "collapsed_sections": [],
      "authorship_tag": "ABX9TyM1QcpfluukRquMs7CHhH2u",
      "include_colab_link": true
    },
    "kernelspec": {
      "name": "python3",
      "display_name": "Python 3"
    },
    "accelerator": "GPU"
  },
  "cells": [
    {
      "cell_type": "markdown",
      "metadata": {
        "id": "view-in-github",
        "colab_type": "text"
      },
      "source": [
        "<a href=\"https://colab.research.google.com/github/narsym/Mnist-digit-classification/blob/master/MNIST.ipynb\" target=\"_parent\"><img src=\"https://colab.research.google.com/assets/colab-badge.svg\" alt=\"Open In Colab\"/></a>"
      ]
    },
    {
      "cell_type": "markdown",
      "metadata": {
        "id": "boY2PCJr3c_n",
        "colab_type": "text"
      },
      "source": [
        "Importing libraries and data"
      ]
    },
    {
      "cell_type": "code",
      "metadata": {
        "id": "qS10Db3ldkSM",
        "colab_type": "code",
        "colab": {}
      },
      "source": [
        "from tensorflow.keras.datasets import mnist\n",
        "import tensorflow.keras"
      ],
      "execution_count": 0,
      "outputs": []
    },
    {
      "cell_type": "code",
      "metadata": {
        "id": "xThSDnoldxrN",
        "colab_type": "code",
        "outputId": "8eface2c-5152-4faf-85f5-554d655c160a",
        "colab": {
          "base_uri": "https://localhost:8080/",
          "height": 53
        }
      },
      "source": [
        "import matplotlib.pyplot as plt\n",
        "(x_train,y_train),(x_test,y_test) = mnist.load_data()"
      ],
      "execution_count": 0,
      "outputs": [
        {
          "output_type": "stream",
          "text": [
            "Downloading data from https://storage.googleapis.com/tensorflow/tf-keras-datasets/mnist.npz\n",
            "11493376/11490434 [==============================] - 0s 0us/step\n"
          ],
          "name": "stdout"
        }
      ]
    },
    {
      "cell_type": "code",
      "metadata": {
        "id": "3dPd-O_keSoL",
        "colab_type": "code",
        "colab": {}
      },
      "source": [
        "%matplotlib inline"
      ],
      "execution_count": 0,
      "outputs": []
    },
    {
      "cell_type": "markdown",
      "metadata": {
        "id": "SRg7PMjK3jM9",
        "colab_type": "text"
      },
      "source": [
        "Exploring digits"
      ]
    },
    {
      "cell_type": "code",
      "metadata": {
        "id": "khSWI_06eVsR",
        "colab_type": "code",
        "outputId": "0f086bce-5dd7-4378-f7c8-694373edb9eb",
        "colab": {
          "base_uri": "https://localhost:8080/",
          "height": 283
        }
      },
      "source": [
        "digit = 106\n",
        "a = x_train[digit]\n",
        "plt.imshow(a,cmap = 'gray',interpolation = 'nearest')"
      ],
      "execution_count": 0,
      "outputs": [
        {
          "output_type": "execute_result",
          "data": {
            "text/plain": [
              "<matplotlib.image.AxesImage at 0x7fef9ea71f60>"
            ]
          },
          "metadata": {
            "tags": []
          },
          "execution_count": 5
        },
        {
          "output_type": "display_data",
          "data": {
            "image/png": "[encoded data removed]",
            "text/plain": [
              "<Figure size 432x288 with 1 Axes>"
            ]
          },
          "metadata": {
            "tags": [],
            "needs_background": "light"
          }
        }
      ]
    },
    {
      "cell_type": "code",
      "metadata": {
        "id": "_LkNp9vDebxo",
        "colab_type": "code",
        "outputId": "848361f8-d831-4bb8-89d7-1c759709bf3d",
        "colab": {
          "base_uri": "https://localhost:8080/",
          "height": 35
        }
      },
      "source": [
        "x_train.shape"
      ],
      "execution_count": 0,
      "outputs": [
        {
          "output_type": "execute_result",
          "data": {
            "text/plain": [
              "(60000, 28, 28)"
            ]
          },
          "metadata": {
            "tags": []
          },
          "execution_count": 7
        }
      ]
    },
    {
      "cell_type": "markdown",
      "metadata": {
        "id": "bIDZ07eg3qgG",
        "colab_type": "text"
      },
      "source": [
        "Libraries for the model building"
      ]
    },
    {
      "cell_type": "code",
      "metadata": {
        "id": "upXhwdUufMj5",
        "colab_type": "code",
        "colab": {}
      },
      "source": [
        "from tensorflow.keras.layers import Dense,Dropout,Flatten,Conv2D,MaxPooling2D,Input\n",
        "from tensorflow.keras import backend as K"
      ],
      "execution_count": 0,
      "outputs": []
    },
    {
      "cell_type": "markdown",
      "metadata": {
        "id": "-mD4lgHq3zDu",
        "colab_type": "text"
      },
      "source": [
        "Changing image shape as per the backend"
      ]
    },
    {
      "cell_type": "code",
      "metadata": {
        "id": "WuNzfjVxe4sN",
        "colab_type": "code",
        "colab": {}
      },
      "source": [
        "img_rows, img_cols = 28, 28\n",
        "if K.image_data_format() == 'channels_first':\n",
        "    x_train = x_train.reshape(x_train.shape[0], 1, img_rows, img_cols)\n",
        "    x_test = x_test.reshape(x_test.shape[0], 1, img_rows, img_cols)\n",
        "    input_shape = (1, img_rows, img_cols)\n",
        "else:\n",
        "    x_train = x_train.reshape(x_train.shape[0], img_rows, img_cols, 1)\n",
        "    x_test = x_test.reshape(x_test.shape[0], img_rows, img_cols, 1)\n",
        "    input_shape = (img_rows, img_cols, 1)"
      ],
      "execution_count": 0,
      "outputs": []
    },
    {
      "cell_type": "code",
      "metadata": {
        "id": "FwQ5ogPEfLIx",
        "colab_type": "code",
        "outputId": "ab43495c-8ff7-4380-be14-ad71834a513d",
        "colab": {
          "base_uri": "https://localhost:8080/",
          "height": 35
        }
      },
      "source": [
        "x_train.shape"
      ],
      "execution_count": 0,
      "outputs": [
        {
          "output_type": "execute_result",
          "data": {
            "text/plain": [
              "(60000, 28, 28, 1)"
            ]
          },
          "metadata": {
            "tags": []
          },
          "execution_count": 10
        }
      ]
    },
    {
      "cell_type": "code",
      "metadata": {
        "id": "6SRq6S6rfnfk",
        "colab_type": "code",
        "colab": {}
      },
      "source": [
        "num_classes = 10\n",
        "x_train = x_train.astype('float32')\n",
        "x_test = x_test.astype('float32')\n",
        "x_train /= 255\n",
        "x_test /= 255"
      ],
      "execution_count": 0,
      "outputs": []
    },
    {
      "cell_type": "code",
      "metadata": {
        "id": "sQow3ZMigDaN",
        "colab_type": "code",
        "outputId": "09f47fca-2240-4a3e-b590-4fd4f2b8af02",
        "colab": {
          "base_uri": "https://localhost:8080/",
          "height": 35
        }
      },
      "source": [
        "y_train.shape"
      ],
      "execution_count": 0,
      "outputs": [
        {
          "output_type": "execute_result",
          "data": {
            "text/plain": [
              "(60000,)"
            ]
          },
          "metadata": {
            "tags": []
          },
          "execution_count": 12
        }
      ]
    },
    {
      "cell_type": "markdown",
      "metadata": {
        "id": "2Z-kFEA4355h",
        "colab_type": "text"
      },
      "source": [
        "Encoding output classes"
      ]
    },
    {
      "cell_type": "code",
      "metadata": {
        "id": "insVutkugYd1",
        "colab_type": "code",
        "outputId": "948c0863-0cbc-4980-e3bd-58b5fa05e68c",
        "colab": {
          "base_uri": "https://localhost:8080/",
          "height": 35
        }
      },
      "source": [
        "y_train = tensorflow.keras.utils.to_categorical(y_train, num_classes)\n",
        "y_test = tensorflow.keras.utils.to_categorical(y_test, num_classes)\n",
        "y_train.shape"
      ],
      "execution_count": 0,
      "outputs": [
        {
          "output_type": "execute_result",
          "data": {
            "text/plain": [
              "(60000, 10)"
            ]
          },
          "metadata": {
            "tags": []
          },
          "execution_count": 13
        }
      ]
    },
    {
      "cell_type": "markdown",
      "metadata": {
        "id": "2hsZhpqD3_UY",
        "colab_type": "text"
      },
      "source": [
        "Building model"
      ]
    },
    {
      "cell_type": "code",
      "metadata": {
        "id": "diAb3adZgbGo",
        "colab_type": "code",
        "colab": {}
      },
      "source": [
        "from tensorflow.keras.models import Sequential\n",
        "model = Sequential()\n",
        "model.add(Input(shape = (28,28,1)))\n",
        "model.add(Conv2D(32, kernel_size=(3, 3),\n",
        "                 activation='relu'))\n",
        "model.add(Conv2D(64, (3, 3), activation='relu'))\n",
        "model.add(MaxPooling2D(pool_size=(2, 2)))\n",
        "model.add(Dropout(0.25))\n",
        "model.add(Flatten())\n",
        "model.add(Dense(128, activation='relu'))\n",
        "model.add(Dropout(0.5))\n",
        "model.add(Dense(num_classes, activation='softmax'))\n",
        "model.compile(loss='categorical_crossentropy', optimizer='adam',\n",
        "              metrics=['accuracy'])"
      ],
      "execution_count": 0,
      "outputs": []
    },
    {
      "cell_type": "markdown",
      "metadata": {
        "id": "Uuy-yoTb4Che",
        "colab_type": "text"
      },
      "source": [
        "Training model"
      ]
    },
    {
      "cell_type": "code",
      "metadata": {
        "id": "O9R_5NiDihIL",
        "colab_type": "code",
        "outputId": "12365c74-83fc-460e-b889-dfd7fdc13e00",
        "colab": {
          "base_uri": "https://localhost:8080/",
          "height": 471
        }
      },
      "source": [
        "model.fit(x_train,y_train,batch_size = 128,epochs = 12,verbose = 2,validation_data = (x_test,y_test))"
      ],
      "execution_count": 0,
      "outputs": [
        {
          "output_type": "stream",
          "text": [
            "Epoch 1/12\n",
            "469/469 - 7s - loss: 0.2449 - accuracy: 0.9254 - val_loss: 0.0553 - val_accuracy: 0.9827\n",
            "Epoch 2/12\n",
            "469/469 - 7s - loss: 0.0889 - accuracy: 0.9736 - val_loss: 0.0449 - val_accuracy: 0.9855\n",
            "Epoch 3/12\n",
            "469/469 - 7s - loss: 0.0643 - accuracy: 0.9811 - val_loss: 0.0353 - val_accuracy: 0.9880\n",
            "Epoch 4/12\n",
            "469/469 - 7s - loss: 0.0539 - accuracy: 0.9834 - val_loss: 0.0331 - val_accuracy: 0.9898\n",
            "Epoch 5/12\n",
            "469/469 - 7s - loss: 0.0470 - accuracy: 0.9852 - val_loss: 0.0303 - val_accuracy: 0.9915\n",
            "Epoch 6/12\n",
            "469/469 - 7s - loss: 0.0380 - accuracy: 0.9878 - val_loss: 0.0308 - val_accuracy: 0.9903\n",
            "Epoch 7/12\n",
            "469/469 - 7s - loss: 0.0357 - accuracy: 0.9888 - val_loss: 0.0364 - val_accuracy: 0.9897\n",
            "Epoch 8/12\n",
            "469/469 - 7s - loss: 0.0317 - accuracy: 0.9897 - val_loss: 0.0317 - val_accuracy: 0.9905\n",
            "Epoch 9/12\n",
            "469/469 - 7s - loss: 0.0299 - accuracy: 0.9904 - val_loss: 0.0279 - val_accuracy: 0.9910\n",
            "Epoch 10/12\n",
            "469/469 - 7s - loss: 0.0258 - accuracy: 0.9917 - val_loss: 0.0365 - val_accuracy: 0.9899\n",
            "Epoch 11/12\n",
            "469/469 - 7s - loss: 0.0243 - accuracy: 0.9923 - val_loss: 0.0276 - val_accuracy: 0.9921\n",
            "Epoch 12/12\n",
            "469/469 - 7s - loss: 0.0220 - accuracy: 0.9925 - val_loss: 0.0302 - val_accuracy: 0.9919\n"
          ],
          "name": "stdout"
        },
        {
          "output_type": "execute_result",
          "data": {
            "text/plain": [
              "<tensorflow.python.keras.callbacks.History at 0x7fef903d64a8>"
            ]
          },
          "metadata": {
            "tags": []
          },
          "execution_count": 15
        }
      ]
    },
    {
      "cell_type": "markdown",
      "metadata": {
        "id": "xGgVyjyC4FV-",
        "colab_type": "text"
      },
      "source": [
        "Evaluating the model"
      ]
    },
    {
      "cell_type": "code",
      "metadata": {
        "id": "Wp8XV5lN2JiN",
        "colab_type": "code",
        "outputId": "8a5cd559-e953-495e-8f31-fe19180d993f",
        "colab": {
          "base_uri": "https://localhost:8080/",
          "height": 72
        }
      },
      "source": [
        "score = model.evaluate(x_test,y_test)\n",
        "print('Test loss:',score[0])\n",
        "print('Test accuracy',score[1])"
      ],
      "execution_count": 0,
      "outputs": [
        {
          "output_type": "stream",
          "text": [
            "313/313 [==============================] - 1s 4ms/step - loss: 0.0302 - accuracy: 0.9919\n",
            "Test loss: 0.030180178582668304\n",
            "Test accuracy 0.9919000267982483\n"
          ],
          "name": "stdout"
        }
      ]
    },
    {
      "cell_type": "markdown",
      "metadata": {
        "id": "bAjWdbUB3INf",
        "colab_type": "text"
      },
      "source": [
        "We got 99.19% accuracy on the test set"
      ]
    }
  ]
}